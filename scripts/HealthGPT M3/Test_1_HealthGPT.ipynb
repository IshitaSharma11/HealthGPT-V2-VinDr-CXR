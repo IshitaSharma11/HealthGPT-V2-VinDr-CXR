{
 "cells": [
  {
   "cell_type": "code",
   "execution_count": 1,
   "metadata": {
    "colab": {
     "base_uri": "https://localhost:8080/"
    },
    "id": "5ZYUREOQUCAL",
    "outputId": "4d68769c-c2bc-4986-90f0-2b39037fad06"
   },
   "outputs": [
    {
     "name": "stdout",
     "output_type": "stream",
     "text": [
      "fatal: destination path 'HealthGPT' already exists and is not an empty directory.\n",
      "/content/HealthGPT\n"
     ]
    }
   ],
   "source": [
    "!git clone https://github.com/DCDmllm/HealthGPT.git\n",
    "%cd HealthGPT\n"
   ]
  },
  {
   "cell_type": "code",
   "execution_count": 2,
   "metadata": {
    "collapsed": true,
    "id": "US3oHXcAVSYX"
   },
   "outputs": [],
   "source": [
    "##  !pip install -r requirements.txt\n"
   ]
  },
  {
   "cell_type": "code",
   "execution_count": 3,
   "metadata": {
    "id": "gA6Z1aLgVg07"
   },
   "outputs": [],
   "source": [
    "!mkdir -p llava/clip_model\n",
    "!mkdir -p llava/hlora_weights\n",
    "!mkdir -p llava/fusion_layer\n",
    "!mkdir -p taming_transformers/ckpt\n"
   ]
  },
  {
   "cell_type": "code",
   "execution_count": 4,
   "metadata": {
    "colab": {
     "base_uri": "https://localhost:8080/"
    },
    "id": "uZp0CVsEVt4b",
    "outputId": "4442109e-814e-4774-dfc1-5a1551cdc557"
   },
   "outputs": [
    {
     "name": "stdout",
     "output_type": "stream",
     "text": [
      "--2025-06-07 11:35:42--  https://huggingface.co/lintw/HealthGPT-M3/resolve/main/com_hlora_weights.bin\n",
      "Resolving huggingface.co (huggingface.co)... 13.35.202.40, 13.35.202.97, 13.35.202.34, ...\n",
      "Connecting to huggingface.co (huggingface.co)|13.35.202.40|:443... connected.\n",
      "HTTP request sent, awaiting response... 302 Found\n",
      "Location: https://cdn-lfs-us-1.hf.co/repos/fb/3c/fb3c378239dd9fc0d9d631c0581cc5f9a8bdf136d84437f0e6bfee57309a1f97/060b86347bc8594c3b13248a4d34076f7f20fcd5c3c0d2e907f71b3498ff109e?response-content-disposition=inline%3B+filename*%3DUTF-8%27%27com_hlora_weights.bin%3B+filename%3D%22com_hlora_weights.bin%22%3B&response-content-type=application%2Foctet-stream&Expires=1749299743&Policy=eyJTdGF0ZW1lbnQiOlt7IkNvbmRpdGlvbiI6eyJEYXRlTGVzc1RoYW4iOnsiQVdTOkVwb2NoVGltZSI6MTc0OTI5OTc0M319LCJSZXNvdXJjZSI6Imh0dHBzOi8vY2RuLWxmcy11cy0xLmhmLmNvL3JlcG9zL2ZiLzNjL2ZiM2MzNzgyMzlkZDlmYzBkOWQ2MzFjMDU4MWNjNWY5YThiZGYxMzZkODQ0MzdmMGU2YmZlZTU3MzA5YTFmOTcvMDYwYjg2MzQ3YmM4NTk0YzNiMTMyNDhhNGQzNDA3NmY3ZjIwZmNkNWMzYzBkMmU5MDdmNzFiMzQ5OGZmMTA5ZT9yZXNwb25zZS1jb250ZW50LWRpc3Bvc2l0aW9uPSomcmVzcG9uc2UtY29udGVudC10eXBlPSoifV19&Signature=I5EcAFQCYlNDYHRj3iXxaBVunsHJC5cM3%7EOVPi2lSv0Ebfeeu9y1AM6eN6fmkwVZgFM7Viw-sV2t0V4RDleEAifKSldNUyEXamXBJw4FA4pQzW8M5yP9Bipccv9JC9cZo4h1X4ZtKY2Np4ujVgg1tgO1sYEZBnDzrVm1wtAj5pGR4GDY9Y6T1snoEonUVMeKfJ0%7EKJxnBfIw5yi7ENrFrBHADLDSKn97P5u9J2V%7EMS37rHBZhbGsdFdqOgAuAjpELPfIvQFq4rhHoeEhrXNHk0xuin--7l44GZofckuxpAJiM0xlYf8edR8k3DvXsZDdzYBLhUns%7EzwBw4YR4oN7Aw__&Key-Pair-Id=K24J24Z295AEI9 [following]\n",
      "--2025-06-07 11:35:43--  https://cdn-lfs-us-1.hf.co/repos/fb/3c/fb3c378239dd9fc0d9d631c0581cc5f9a8bdf136d84437f0e6bfee57309a1f97/060b86347bc8594c3b13248a4d34076f7f20fcd5c3c0d2e907f71b3498ff109e?response-content-disposition=inline%3B+filename*%3DUTF-8%27%27com_hlora_weights.bin%3B+filename%3D%22com_hlora_weights.bin%22%3B&response-content-type=application%2Foctet-stream&Expires=1749299743&Policy=eyJTdGF0ZW1lbnQiOlt7IkNvbmRpdGlvbiI6eyJEYXRlTGVzc1RoYW4iOnsiQVdTOkVwb2NoVGltZSI6MTc0OTI5OTc0M319LCJSZXNvdXJjZSI6Imh0dHBzOi8vY2RuLWxmcy11cy0xLmhmLmNvL3JlcG9zL2ZiLzNjL2ZiM2MzNzgyMzlkZDlmYzBkOWQ2MzFjMDU4MWNjNWY5YThiZGYxMzZkODQ0MzdmMGU2YmZlZTU3MzA5YTFmOTcvMDYwYjg2MzQ3YmM4NTk0YzNiMTMyNDhhNGQzNDA3NmY3ZjIwZmNkNWMzYzBkMmU5MDdmNzFiMzQ5OGZmMTA5ZT9yZXNwb25zZS1jb250ZW50LWRpc3Bvc2l0aW9uPSomcmVzcG9uc2UtY29udGVudC10eXBlPSoifV19&Signature=I5EcAFQCYlNDYHRj3iXxaBVunsHJC5cM3%7EOVPi2lSv0Ebfeeu9y1AM6eN6fmkwVZgFM7Viw-sV2t0V4RDleEAifKSldNUyEXamXBJw4FA4pQzW8M5yP9Bipccv9JC9cZo4h1X4ZtKY2Np4ujVgg1tgO1sYEZBnDzrVm1wtAj5pGR4GDY9Y6T1snoEonUVMeKfJ0%7EKJxnBfIw5yi7ENrFrBHADLDSKn97P5u9J2V%7EMS37rHBZhbGsdFdqOgAuAjpELPfIvQFq4rhHoeEhrXNHk0xuin--7l44GZofckuxpAJiM0xlYf8edR8k3DvXsZDdzYBLhUns%7EzwBw4YR4oN7Aw__&Key-Pair-Id=K24J24Z295AEI9\n",
      "Resolving cdn-lfs-us-1.hf.co (cdn-lfs-us-1.hf.co)... 3.171.198.15, 3.171.198.22, 3.171.198.97, ...\n",
      "Connecting to cdn-lfs-us-1.hf.co (cdn-lfs-us-1.hf.co)|3.171.198.15|:443... connected.\n",
      "HTTP request sent, awaiting response... 200 OK\n",
      "Length: 231096349 (220M) [application/octet-stream]\n",
      "Saving to: ‘llava/hlora_weights/com_hlora_weights.bin.1’\n",
      "\n",
      "com_hlora_weights.b 100%[===================>] 220.39M   274MB/s    in 0.8s    \n",
      "\n",
      "2025-06-07 11:35:43 (274 MB/s) - ‘llava/hlora_weights/com_hlora_weights.bin.1’ saved [231096349/231096349]\n",
      "\n",
      "--2025-06-07 11:35:44--  https://huggingface.co/lintw/HealthGPT-M3/resolve/main/fusion_layer_weights.bin\n",
      "Resolving huggingface.co (huggingface.co)... 13.35.202.97, 13.35.202.121, 13.35.202.40, ...\n",
      "Connecting to huggingface.co (huggingface.co)|13.35.202.97|:443... connected.\n",
      "HTTP request sent, awaiting response... 302 Found\n",
      "Location: https://cdn-lfs-us-1.hf.co/repos/fb/3c/fb3c378239dd9fc0d9d631c0581cc5f9a8bdf136d84437f0e6bfee57309a1f97/86bf9702240bf07bec13055942afa113f0f9656ba0121d4b4e6c14f9c7266384?response-content-disposition=inline%3B+filename*%3DUTF-8%27%27fusion_layer_weights.bin%3B+filename%3D%22fusion_layer_weights.bin%22%3B&response-content-type=application%2Foctet-stream&Expires=1749299744&Policy=eyJTdGF0ZW1lbnQiOlt7IkNvbmRpdGlvbiI6eyJEYXRlTGVzc1RoYW4iOnsiQVdTOkVwb2NoVGltZSI6MTc0OTI5OTc0NH19LCJSZXNvdXJjZSI6Imh0dHBzOi8vY2RuLWxmcy11cy0xLmhmLmNvL3JlcG9zL2ZiLzNjL2ZiM2MzNzgyMzlkZDlmYzBkOWQ2MzFjMDU4MWNjNWY5YThiZGYxMzZkODQ0MzdmMGU2YmZlZTU3MzA5YTFmOTcvODZiZjk3MDIyNDBiZjA3YmVjMTMwNTU5NDJhZmExMTNmMGY5NjU2YmEwMTIxZDRiNGU2YzE0ZjljNzI2NjM4ND9yZXNwb25zZS1jb250ZW50LWRpc3Bvc2l0aW9uPSomcmVzcG9uc2UtY29udGVudC10eXBlPSoifV19&Signature=okzd49MjwdatjGd5UQQlP4LsPlEFL1jjLA7ncc-ZAoadDnWSJrGhv74fwqlFd4ksXg1DRlrL5b4oSwXVg%7EjZRr1KXhXEEBnWfGaW083W%7E59om1bxKiJZ3dzRWJ9HjGOhwkN0seWqCzpVm2B7j4QGg4MBC2qFPk-Apkzjw3sslliELNtuJ2t1uXUqiO45XpEyIY2BJeIfMUOK0WLVqagQ24PMlKm2sgmFQUyB3ZLReR6p%7E7y92EgbAV6JJO4l40Vgdxh8p1OsuhAJGZE4GNMQmGUgbo2mnn6ezLtQZjkf1tgLV7Mni3TIBcuBkaN932otqW3Dr9LaHTemt%7EC1Xt7Fiw__&Key-Pair-Id=K24J24Z295AEI9 [following]\n",
      "--2025-06-07 11:35:44--  https://cdn-lfs-us-1.hf.co/repos/fb/3c/fb3c378239dd9fc0d9d631c0581cc5f9a8bdf136d84437f0e6bfee57309a1f97/86bf9702240bf07bec13055942afa113f0f9656ba0121d4b4e6c14f9c7266384?response-content-disposition=inline%3B+filename*%3DUTF-8%27%27fusion_layer_weights.bin%3B+filename%3D%22fusion_layer_weights.bin%22%3B&response-content-type=application%2Foctet-stream&Expires=1749299744&Policy=eyJTdGF0ZW1lbnQiOlt7IkNvbmRpdGlvbiI6eyJEYXRlTGVzc1RoYW4iOnsiQVdTOkVwb2NoVGltZSI6MTc0OTI5OTc0NH19LCJSZXNvdXJjZSI6Imh0dHBzOi8vY2RuLWxmcy11cy0xLmhmLmNvL3JlcG9zL2ZiLzNjL2ZiM2MzNzgyMzlkZDlmYzBkOWQ2MzFjMDU4MWNjNWY5YThiZGYxMzZkODQ0MzdmMGU2YmZlZTU3MzA5YTFmOTcvODZiZjk3MDIyNDBiZjA3YmVjMTMwNTU5NDJhZmExMTNmMGY5NjU2YmEwMTIxZDRiNGU2YzE0ZjljNzI2NjM4ND9yZXNwb25zZS1jb250ZW50LWRpc3Bvc2l0aW9uPSomcmVzcG9uc2UtY29udGVudC10eXBlPSoifV19&Signature=okzd49MjwdatjGd5UQQlP4LsPlEFL1jjLA7ncc-ZAoadDnWSJrGhv74fwqlFd4ksXg1DRlrL5b4oSwXVg%7EjZRr1KXhXEEBnWfGaW083W%7E59om1bxKiJZ3dzRWJ9HjGOhwkN0seWqCzpVm2B7j4QGg4MBC2qFPk-Apkzjw3sslliELNtuJ2t1uXUqiO45XpEyIY2BJeIfMUOK0WLVqagQ24PMlKm2sgmFQUyB3ZLReR6p%7E7y92EgbAV6JJO4l40Vgdxh8p1OsuhAJGZE4GNMQmGUgbo2mnn6ezLtQZjkf1tgLV7Mni3TIBcuBkaN932otqW3Dr9LaHTemt%7EC1Xt7Fiw__&Key-Pair-Id=K24J24Z295AEI9\n",
      "Resolving cdn-lfs-us-1.hf.co (cdn-lfs-us-1.hf.co)... 3.171.198.15, 3.171.198.22, 3.171.198.97, ...\n",
      "Connecting to cdn-lfs-us-1.hf.co (cdn-lfs-us-1.hf.co)|3.171.198.15|:443... connected.\n",
      "HTTP request sent, awaiting response... 200 OK\n",
      "Length: 494052503 (471M) [application/octet-stream]\n",
      "Saving to: ‘llava/fusion_layer/fusion_layer_weights.bin.1’\n",
      "\n",
      "fusion_layer_weight 100%[===================>] 471.17M   374MB/s    in 1.3s    \n",
      "\n",
      "2025-06-07 11:35:45 (374 MB/s) - ‘llava/fusion_layer/fusion_layer_weights.bin.1’ saved [494052503/494052503]\n",
      "\n"
     ]
    }
   ],
   "source": [
    "!wget https://huggingface.co/lintw/HealthGPT-M3/resolve/main/com_hlora_weights.bin -P llava/hlora_weights/\n",
    "!wget https://huggingface.co/lintw/HealthGPT-M3/resolve/main/fusion_layer_weights.bin -P llava/fusion_layer/\n"
   ]
  },
  {
   "cell_type": "code",
   "execution_count": 5,
   "metadata": {
    "colab": {
     "base_uri": "https://localhost:8080/"
    },
    "id": "YFTRazfZ6Dgp",
    "outputId": "0d7531b8-eebb-4b5e-b275-b962f4d55133"
   },
   "outputs": [
    {
     "name": "stdout",
     "output_type": "stream",
     "text": [
      "--2025-06-07 11:35:45--  https://heibox.uni-heidelberg.de/f/867b05fc8c481768640/?dl=1\n",
      "Resolving heibox.uni-heidelberg.de (heibox.uni-heidelberg.de)... 129.206.7.113\n",
      "Connecting to heibox.uni-heidelberg.de (heibox.uni-heidelberg.de)|129.206.7.113|:443... connected.\n",
      "HTTP request sent, awaiting response... 200 OK\n",
      "Length: 7281 (7.1K) [text/html]\n",
      "Saving to: ‘taming_transformers/ckpt/last.ckpt’\n",
      "\n",
      "taming_transformers 100%[===================>]   7.11K  --.-KB/s    in 0s      \n",
      "\n",
      "2025-06-07 11:35:46 (3.79 GB/s) - ‘taming_transformers/ckpt/last.ckpt’ saved [7281/7281]\n",
      "\n"
     ]
    }
   ],
   "source": [
    "!wget -O taming_transformers/ckpt/last.ckpt \"https://heibox.uni-heidelberg.de/f/867b05fc8c481768640/?dl=1\"\n"
   ]
  },
  {
   "cell_type": "code",
   "execution_count": 6,
   "metadata": {
    "colab": {
     "base_uri": "https://localhost:8080/"
    },
    "id": "2Hq-GtQV6DkC",
    "outputId": "c47490b9-b8c2-4697-c89b-9009826c24aa"
   },
   "outputs": [
    {
     "name": "stdout",
     "output_type": "stream",
     "text": [
      "--2025-06-07 11:35:46--  https://heibox.uni-heidelberg.de/f/274fb24ed3831bfa753/?dl=1\n",
      "Resolving heibox.uni-heidelberg.de (heibox.uni-heidelberg.de)... 129.206.7.113\n",
      "Connecting to heibox.uni-heidelberg.de (heibox.uni-heidelberg.de)|129.206.7.113|:443... connected.\n",
      "HTTP request sent, awaiting response... 200 OK\n",
      "Length: 7281 (7.1K) [text/html]\n",
      "Saving to: ‘taming_transformers/ckpt/model111.yaml’\n",
      "\n",
      "taming_transformers 100%[===================>]   7.11K  --.-KB/s    in 0s      \n",
      "\n",
      "2025-06-07 11:35:47 (3.58 GB/s) - ‘taming_transformers/ckpt/model111.yaml’ saved [7281/7281]\n",
      "\n"
     ]
    }
   ],
   "source": [
    "!wget -O taming_transformers/ckpt/model111.yaml \"https://heibox.uni-heidelberg.de/f/274fb24ed3831bfa753/?dl=1\"\n"
   ]
  },
  {
   "cell_type": "code",
   "execution_count": 7,
   "metadata": {
    "colab": {
     "base_uri": "https://localhost:8080/"
    },
    "id": "wmlkHEOQ6Dm7",
    "outputId": "0cdaa8b8-c51f-4490-9501-d7a5f284ff60"
   },
   "outputs": [
    {
     "name": "stdout",
     "output_type": "stream",
     "text": [
      "--2025-06-07 11:35:47--  https://huggingface.co/openai/clip-vit-large-patch14-336/resolve/main/pytorch_model.bin\n",
      "Resolving huggingface.co (huggingface.co)... 13.35.202.34, 13.35.202.97, 13.35.202.40, ...\n",
      "Connecting to huggingface.co (huggingface.co)|13.35.202.34|:443... connected.\n",
      "HTTP request sent, awaiting response... 302 Found\n",
      "Location: https://cdn-lfs.hf.co/repos/aa/ef/aaef666503e18a889e4a927d9595921c7011b713a81cf619fbc411be6f69e9d6/c6032c2e0caae3dc2d4fba35535fa6307dbb49df59c7e182b1bc4b3329b81801?response-content-disposition=inline%3B+filename*%3DUTF-8%27%27pytorch_model.bin%3B+filename%3D%22pytorch_model.bin%22%3B&response-content-type=application%2Foctet-stream&Expires=1749299078&Policy=eyJTdGF0ZW1lbnQiOlt7IkNvbmRpdGlvbiI6eyJEYXRlTGVzc1RoYW4iOnsiQVdTOkVwb2NoVGltZSI6MTc0OTI5OTA3OH19LCJSZXNvdXJjZSI6Imh0dHBzOi8vY2RuLWxmcy5oZi5jby9yZXBvcy9hYS9lZi9hYWVmNjY2NTAzZTE4YTg4OWU0YTkyN2Q5NTk1OTIxYzcwMTFiNzEzYTgxY2Y2MTlmYmM0MTFiZTZmNjllOWQ2L2M2MDMyYzJlMGNhYWUzZGMyZDRmYmEzNTUzNWZhNjMwN2RiYjQ5ZGY1OWM3ZTE4MmIxYmM0YjMzMjliODE4MDE%7EcmVzcG9uc2UtY29udGVudC1kaXNwb3NpdGlvbj0qJnJlc3BvbnNlLWNvbnRlbnQtdHlwZT0qIn1dfQ__&Signature=qvth%7EwzA3jVpawnMAOIxSrZgaEc0a0J1bQI5Ko8SHaqLk9TeOZU%7ElQ-FnnPPbZHJMLikktIt3AWamu4vAIsP8lzUHEpvNvRxHlfqfu6J2s878CkAEy6xtUemfFddj6wR0rvjDgR2Pv0Ih5yf0UuN3EvLLhjGxH8JVuRErWoAzh-5ozuEAommKeF56UmvYMHx%7EcWf1khS6cGFxrCYfsGK7IN5hj9rEQOKCS%7ERCkTNmUDxtx06uD%7EDetKpbl8EhKRB4XJbz0OoBBmbDRMPsuoQ6wqlC8O5JvCXubXMpPwUUXpon7OR9o0VNq7pdeM8RfYhXsh5IE0ub3BA9gQvt5XucQ__&Key-Pair-Id=K3RPWS32NSSJCE [following]\n",
      "--2025-06-07 11:35:47--  https://cdn-lfs.hf.co/repos/aa/ef/aaef666503e18a889e4a927d9595921c7011b713a81cf619fbc411be6f69e9d6/c6032c2e0caae3dc2d4fba35535fa6307dbb49df59c7e182b1bc4b3329b81801?response-content-disposition=inline%3B+filename*%3DUTF-8%27%27pytorch_model.bin%3B+filename%3D%22pytorch_model.bin%22%3B&response-content-type=application%2Foctet-stream&Expires=1749299078&Policy=eyJTdGF0ZW1lbnQiOlt7IkNvbmRpdGlvbiI6eyJEYXRlTGVzc1RoYW4iOnsiQVdTOkVwb2NoVGltZSI6MTc0OTI5OTA3OH19LCJSZXNvdXJjZSI6Imh0dHBzOi8vY2RuLWxmcy5oZi5jby9yZXBvcy9hYS9lZi9hYWVmNjY2NTAzZTE4YTg4OWU0YTkyN2Q5NTk1OTIxYzcwMTFiNzEzYTgxY2Y2MTlmYmM0MTFiZTZmNjllOWQ2L2M2MDMyYzJlMGNhYWUzZGMyZDRmYmEzNTUzNWZhNjMwN2RiYjQ5ZGY1OWM3ZTE4MmIxYmM0YjMzMjliODE4MDE%7EcmVzcG9uc2UtY29udGVudC1kaXNwb3NpdGlvbj0qJnJlc3BvbnNlLWNvbnRlbnQtdHlwZT0qIn1dfQ__&Signature=qvth%7EwzA3jVpawnMAOIxSrZgaEc0a0J1bQI5Ko8SHaqLk9TeOZU%7ElQ-FnnPPbZHJMLikktIt3AWamu4vAIsP8lzUHEpvNvRxHlfqfu6J2s878CkAEy6xtUemfFddj6wR0rvjDgR2Pv0Ih5yf0UuN3EvLLhjGxH8JVuRErWoAzh-5ozuEAommKeF56UmvYMHx%7EcWf1khS6cGFxrCYfsGK7IN5hj9rEQOKCS%7ERCkTNmUDxtx06uD%7EDetKpbl8EhKRB4XJbz0OoBBmbDRMPsuoQ6wqlC8O5JvCXubXMpPwUUXpon7OR9o0VNq7pdeM8RfYhXsh5IE0ub3BA9gQvt5XucQ__&Key-Pair-Id=K3RPWS32NSSJCE\n",
      "Resolving cdn-lfs.hf.co (cdn-lfs.hf.co)... 3.170.229.28, 3.170.229.105, 3.170.229.19, ...\n",
      "Connecting to cdn-lfs.hf.co (cdn-lfs.hf.co)|3.170.229.28|:443... connected.\n",
      "HTTP request sent, awaiting response... 200 OK\n",
      "Length: 1711974081 (1.6G) [application/octet-stream]\n",
      "Saving to: ‘llava/clip_model/pytorch_model.bin’\n",
      "\n",
      "llava/clip_model/py 100%[===================>]   1.59G   433MB/s    in 3.9s    \n",
      "\n",
      "2025-06-07 11:35:51 (423 MB/s) - ‘llava/clip_model/pytorch_model.bin’ saved [1711974081/1711974081]\n",
      "\n"
     ]
    }
   ],
   "source": [
    "!wget -O llava/clip_model/pytorch_model.bin \"https://huggingface.co/openai/clip-vit-large-patch14-336/resolve/main/pytorch_model.bin\"\n"
   ]
  },
  {
   "cell_type": "code",
   "execution_count": 8,
   "metadata": {
    "colab": {
     "base_uri": "https://localhost:8080/"
    },
    "id": "IAY9t75JVuYM",
    "outputId": "72e857fb-7afd-4ae5-ca44-8c1a4d9633d6"
   },
   "outputs": [
    {
     "name": "stdout",
     "output_type": "stream",
     "text": [
      "--2025-06-07 11:35:51--  https://huggingface.co/openai/clip-vit-large-patch14-336/resolve/main/config.json\n",
      "Resolving huggingface.co (huggingface.co)... 13.35.202.97, 13.35.202.121, 13.35.202.40, ...\n",
      "Connecting to huggingface.co (huggingface.co)|13.35.202.97|:443... connected.\n",
      "HTTP request sent, awaiting response... 200 OK\n",
      "Length: 4757 (4.6K) [text/plain]\n",
      "Saving to: ‘llava/clip_model/config.json’\n",
      "\n",
      "llava/clip_model/co 100%[===================>]   4.65K  --.-KB/s    in 0s      \n",
      "\n",
      "2025-06-07 11:35:52 (961 MB/s) - ‘llava/clip_model/config.json’ saved [4757/4757]\n",
      "\n"
     ]
    }
   ],
   "source": [
    "!wget -O llava/clip_model/config.json \"https://huggingface.co/openai/clip-vit-large-patch14-336/resolve/main/config.json\"\n"
   ]
  },
  {
   "cell_type": "code",
   "execution_count": 8,
   "metadata": {
    "id": "5r1KtEqD9GEp"
   },
   "outputs": [],
   "source": []
  },
  {
   "cell_type": "code",
   "execution_count": 9,
   "metadata": {
    "colab": {
     "base_uri": "https://localhost:8080/"
    },
    "id": "fw6vdU4sCEdU",
    "outputId": "4efd9304-2e6d-4acb-8dd7-2f669a9990ea"
   },
   "outputs": [
    {
     "name": "stdout",
     "output_type": "stream",
     "text": [
      "--2025-06-07 11:35:52--  https://huggingface.co/openai/clip-vit-large-patch14-336/resolve/main/preprocessor_config.json\n",
      "Resolving huggingface.co (huggingface.co)... 13.35.202.121, 13.35.202.40, 13.35.202.97, ...\n",
      "Connecting to huggingface.co (huggingface.co)|13.35.202.121|:443... connected.\n",
      "HTTP request sent, awaiting response... 200 OK\n",
      "Length: 316 [text/plain]\n",
      "Saving to: ‘llava/clip_model/preprocessor_config.json’\n",
      "\n",
      "llava/clip_model/pr 100%[===================>]     316  --.-KB/s    in 0s      \n",
      "\n",
      "2025-06-07 11:35:52 (168 MB/s) - ‘llava/clip_model/preprocessor_config.json’ saved [316/316]\n",
      "\n"
     ]
    }
   ],
   "source": [
    "!wget -O llava/clip_model/preprocessor_config.json \"https://huggingface.co/openai/clip-vit-large-patch14-336/resolve/main/preprocessor_config.json\"\n"
   ]
  },
  {
   "cell_type": "code",
   "execution_count": 10,
   "metadata": {
    "colab": {
     "base_uri": "https://localhost:8080/",
     "height": 73
    },
    "id": "zCDg1jiR9fVp",
    "outputId": "fc0c82c8-4613-4d65-b0fe-30744c7f47b2"
   },
   "outputs": [
    {
     "data": {
      "text/html": [
       "\n",
       "     <input type=\"file\" id=\"files-8e67232f-948f-4424-af64-633db5ec5b39\" name=\"files[]\" multiple disabled\n",
       "        style=\"border:none\" />\n",
       "     <output id=\"result-8e67232f-948f-4424-af64-633db5ec5b39\">\n",
       "      Upload widget is only available when the cell has been executed in the\n",
       "      current browser session. Please rerun this cell to enable.\n",
       "      </output>\n",
       "      <script>// Copyright 2017 Google LLC\n",
       "//\n",
       "// Licensed under the Apache License, Version 2.0 (the \"License\");\n",
       "// you may not use this file except in compliance with the License.\n",
       "// You may obtain a copy of the License at\n",
       "//\n",
       "//      http://www.apache.org/licenses/LICENSE-2.0\n",
       "//\n",
       "// Unless required by applicable law or agreed to in writing, software\n",
       "// distributed under the License is distributed on an \"AS IS\" BASIS,\n",
       "// WITHOUT WARRANTIES OR CONDITIONS OF ANY KIND, either express or implied.\n",
       "// See the License for the specific language governing permissions and\n",
       "// limitations under the License.\n",
       "\n",
       "/**\n",
       " * @fileoverview Helpers for google.colab Python module.\n",
       " */\n",
       "(function(scope) {\n",
       "function span(text, styleAttributes = {}) {\n",
       "  const element = document.createElement('span');\n",
       "  element.textContent = text;\n",
       "  for (const key of Object.keys(styleAttributes)) {\n",
       "    element.style[key] = styleAttributes[key];\n",
       "  }\n",
       "  return element;\n",
       "}\n",
       "\n",
       "// Max number of bytes which will be uploaded at a time.\n",
       "const MAX_PAYLOAD_SIZE = 100 * 1024;\n",
       "\n",
       "function _uploadFiles(inputId, outputId) {\n",
       "  const steps = uploadFilesStep(inputId, outputId);\n",
       "  const outputElement = document.getElementById(outputId);\n",
       "  // Cache steps on the outputElement to make it available for the next call\n",
       "  // to uploadFilesContinue from Python.\n",
       "  outputElement.steps = steps;\n",
       "\n",
       "  return _uploadFilesContinue(outputId);\n",
       "}\n",
       "\n",
       "// This is roughly an async generator (not supported in the browser yet),\n",
       "// where there are multiple asynchronous steps and the Python side is going\n",
       "// to poll for completion of each step.\n",
       "// This uses a Promise to block the python side on completion of each step,\n",
       "// then passes the result of the previous step as the input to the next step.\n",
       "function _uploadFilesContinue(outputId) {\n",
       "  const outputElement = document.getElementById(outputId);\n",
       "  const steps = outputElement.steps;\n",
       "\n",
       "  const next = steps.next(outputElement.lastPromiseValue);\n",
       "  return Promise.resolve(next.value.promise).then((value) => {\n",
       "    // Cache the last promise value to make it available to the next\n",
       "    // step of the generator.\n",
       "    outputElement.lastPromiseValue = value;\n",
       "    return next.value.response;\n",
       "  });\n",
       "}\n",
       "\n",
       "/**\n",
       " * Generator function which is called between each async step of the upload\n",
       " * process.\n",
       " * @param {string} inputId Element ID of the input file picker element.\n",
       " * @param {string} outputId Element ID of the output display.\n",
       " * @return {!Iterable<!Object>} Iterable of next steps.\n",
       " */\n",
       "function* uploadFilesStep(inputId, outputId) {\n",
       "  const inputElement = document.getElementById(inputId);\n",
       "  inputElement.disabled = false;\n",
       "\n",
       "  const outputElement = document.getElementById(outputId);\n",
       "  outputElement.innerHTML = '';\n",
       "\n",
       "  const pickedPromise = new Promise((resolve) => {\n",
       "    inputElement.addEventListener('change', (e) => {\n",
       "      resolve(e.target.files);\n",
       "    });\n",
       "  });\n",
       "\n",
       "  const cancel = document.createElement('button');\n",
       "  inputElement.parentElement.appendChild(cancel);\n",
       "  cancel.textContent = 'Cancel upload';\n",
       "  const cancelPromise = new Promise((resolve) => {\n",
       "    cancel.onclick = () => {\n",
       "      resolve(null);\n",
       "    };\n",
       "  });\n",
       "\n",
       "  // Wait for the user to pick the files.\n",
       "  const files = yield {\n",
       "    promise: Promise.race([pickedPromise, cancelPromise]),\n",
       "    response: {\n",
       "      action: 'starting',\n",
       "    }\n",
       "  };\n",
       "\n",
       "  cancel.remove();\n",
       "\n",
       "  // Disable the input element since further picks are not allowed.\n",
       "  inputElement.disabled = true;\n",
       "\n",
       "  if (!files) {\n",
       "    return {\n",
       "      response: {\n",
       "        action: 'complete',\n",
       "      }\n",
       "    };\n",
       "  }\n",
       "\n",
       "  for (const file of files) {\n",
       "    const li = document.createElement('li');\n",
       "    li.append(span(file.name, {fontWeight: 'bold'}));\n",
       "    li.append(span(\n",
       "        `(${file.type || 'n/a'}) - ${file.size} bytes, ` +\n",
       "        `last modified: ${\n",
       "            file.lastModifiedDate ? file.lastModifiedDate.toLocaleDateString() :\n",
       "                                    'n/a'} - `));\n",
       "    const percent = span('0% done');\n",
       "    li.appendChild(percent);\n",
       "\n",
       "    outputElement.appendChild(li);\n",
       "\n",
       "    const fileDataPromise = new Promise((resolve) => {\n",
       "      const reader = new FileReader();\n",
       "      reader.onload = (e) => {\n",
       "        resolve(e.target.result);\n",
       "      };\n",
       "      reader.readAsArrayBuffer(file);\n",
       "    });\n",
       "    // Wait for the data to be ready.\n",
       "    let fileData = yield {\n",
       "      promise: fileDataPromise,\n",
       "      response: {\n",
       "        action: 'continue',\n",
       "      }\n",
       "    };\n",
       "\n",
       "    // Use a chunked sending to avoid message size limits. See b/62115660.\n",
       "    let position = 0;\n",
       "    do {\n",
       "      const length = Math.min(fileData.byteLength - position, MAX_PAYLOAD_SIZE);\n",
       "      const chunk = new Uint8Array(fileData, position, length);\n",
       "      position += length;\n",
       "\n",
       "      const base64 = btoa(String.fromCharCode.apply(null, chunk));\n",
       "      yield {\n",
       "        response: {\n",
       "          action: 'append',\n",
       "          file: file.name,\n",
       "          data: base64,\n",
       "        },\n",
       "      };\n",
       "\n",
       "      let percentDone = fileData.byteLength === 0 ?\n",
       "          100 :\n",
       "          Math.round((position / fileData.byteLength) * 100);\n",
       "      percent.textContent = `${percentDone}% done`;\n",
       "\n",
       "    } while (position < fileData.byteLength);\n",
       "  }\n",
       "\n",
       "  // All done.\n",
       "  yield {\n",
       "    response: {\n",
       "      action: 'complete',\n",
       "    }\n",
       "  };\n",
       "}\n",
       "\n",
       "scope.google = scope.google || {};\n",
       "scope.google.colab = scope.google.colab || {};\n",
       "scope.google.colab._files = {\n",
       "  _uploadFiles,\n",
       "  _uploadFilesContinue,\n",
       "};\n",
       "})(self);\n",
       "</script> "
      ],
      "text/plain": [
       "<IPython.core.display.HTML object>"
      ]
     },
     "metadata": {},
     "output_type": "display_data"
    },
    {
     "name": "stdout",
     "output_type": "stream",
     "text": [
      "Saving 011111.jpg to 011111 (1).jpg\n"
     ]
    }
   ],
   "source": [
    "from google.colab import files\n",
    "uploaded = files.upload()\n"
   ]
  },
  {
   "cell_type": "code",
   "execution_count": 11,
   "metadata": {
    "colab": {
     "base_uri": "https://localhost:8080/"
    },
    "id": "CJPrSNRp9fYX",
    "outputId": "11b5fdc5-7809-4fbc-b1ea-c691b111ff36"
   },
   "outputs": [
    {
     "name": "stdout",
     "output_type": "stream",
     "text": [
      "2025-06-07 11:36:38.015090: I tensorflow/core/util/port.cc:153] oneDNN custom operations are on. You may see slightly different numerical results due to floating-point round-off errors from different computation orders. To turn them off, set the environment variable `TF_ENABLE_ONEDNN_OPTS=0`.\n",
      "2025-06-07 11:36:38.033765: E external/local_xla/xla/stream_executor/cuda/cuda_fft.cc:477] Unable to register cuFFT factory: Attempting to register factory for plugin cuFFT when one has already been registered\n",
      "WARNING: All log messages before absl::InitializeLog() is called are written to STDERR\n",
      "E0000 00:00:1749296198.054981    6720 cuda_dnn.cc:8310] Unable to register cuDNN factory: Attempting to register factory for plugin cuDNN when one has already been registered\n",
      "E0000 00:00:1749296198.061384    6720 cuda_blas.cc:1418] Unable to register cuBLAS factory: Attempting to register factory for plugin cuBLAS when one has already been registered\n",
      "2025-06-07 11:36:38.082510: I tensorflow/core/platform/cpu_feature_guard.cc:210] This TensorFlow binary is optimized to use available CPU instructions in performance-critical operations.\n",
      "To enable the following instructions: AVX2 AVX512F AVX512_VNNI FMA, in other operations, rebuild TensorFlow with the appropriate compiler flags.\n",
      "You are using a model of type phi3 to instantiate a model of type llava_phi. This is not supported for all configurations of models and can yield errors.\n",
      "Loading checkpoint shards: 100% 2/2 [00:01<00:00,  1.02it/s]\n",
      "Special tokens have been added in the vocabulary, make sure the associated word embeddings are fine-tuned or trained.\n",
      "Number of new tokens added for unified task: 8195\n",
      "/usr/local/lib/python3.11/dist-packages/torch/_utils.py:776: UserWarning: TypedStorage is deprecated. It will be removed in the future and UntypedStorage will be the only storage class. This should only matter to you if you are using storages directly.  To access UntypedStorage directly, use tensor.untyped_storage() instead of tensor.storage()\n",
      "  return self.fget.__get__(instance, owner)()\n",
      "/usr/local/lib/python3.11/dist-packages/transformers/generation/configuration_utils.py:515: UserWarning: `do_sample` is set to `False`. However, `temperature` is set to `0.0` -- this flag is only used in sample-based generation modes. You should set `do_sample=True` or unset `temperature`.\n",
      "  warnings.warn(\n",
      "You are not running the flash-attention implementation, expect numerical differences.\n",
      "Q: What abnormalities are visible in this chest X-ray?\n",
      "HealthGPT: The chest X-ray shows bilateral patchy infiltrates, which are areas of increased opacity in both lungs. These infiltrates are indicative of an underlying pulmonary condition, such as pneumonia or another type of lung disease. The presence of these infiltrates suggests that the patient may be experiencing respiratory issues that require further medical evaluation and treatment.\n"
     ]
    }
   ],
   "source": [
    "\n",
    "!python llava/demo/com_infer.py \\\n",
    "  --model_name_or_path \"microsoft/Phi-3-mini-4k-instruct\" \\\n",
    "  --dtype \"FP16\" \\\n",
    "  --hlora_r 64 \\\n",
    "  --hlora_alpha 128 \\\n",
    "  --hlora_nums 4 \\\n",
    "  --vq_idx_nums 8192 \\\n",
    "  --instruct_template \"phi3_instruct\" \\\n",
    "  --vit_path \"llava/clip_model\" \\\n",
    "  --hlora_path \"llava/hlora_weights/com_hlora_weights.bin\" \\\n",
    "  --fusion_layer_path \"llava/fusion_layer/fusion_layer_weights.bin\" \\\n",
    "  --question \"What abnormalities are visible in this chest X-ray?\" \\\n",
    "  --img_path \"011111.jpg\"\n"
   ]
  },
  {
   "cell_type": "code",
   "execution_count": 11,
   "metadata": {
    "id": "ifP_ZFG-gXEa"
   },
   "outputs": [],
   "source": []
  },
  {
   "cell_type": "code",
   "execution_count": 11,
   "metadata": {
    "id": "7Blz2z3vh7T5"
   },
   "outputs": [],
   "source": []
  },
  {
   "cell_type": "code",
   "execution_count": 11,
   "metadata": {
    "id": "MiP82jaqlXfu"
   },
   "outputs": [],
   "source": []
  }
 ],
 "metadata": {
  "accelerator": "GPU",
  "colab": {
   "gpuType": "A100",
   "machine_shape": "hm",
   "provenance": []
  },
  "kernelspec": {
   "display_name": "Python 3 (ipykernel)",
   "language": "python",
   "name": "python3"
  },
  "language_info": {
   "codemirror_mode": {
    "name": "ipython",
    "version": 3
   },
   "file_extension": ".py",
   "mimetype": "text/x-python",
   "name": "python",
   "nbconvert_exporter": "python",
   "pygments_lexer": "ipython3",
   "version": "3.11.5"
  }
 },
 "nbformat": 4,
 "nbformat_minor": 1
}
